{
 "cells": [
  {
   "cell_type": "markdown",
   "id": "unable-renaissance",
   "metadata": {},
   "source": [
    "#### Text clustering methods to classify news articles into topics: 'business', 'entertainment', 'politics', 'sport', and 'tech'"
   ]
  },
  {
   "cell_type": "code",
   "execution_count": 2,
   "id": "respective-rugby",
   "metadata": {},
   "outputs": [],
   "source": [
    "# Import the necessary libraries \n",
    "import numpy as np\n",
    "import matplotlib.pyplot as plt\n",
    "import os\n",
    "import re\n",
    "import pandas as pd\n",
    "import time\n",
    "\n",
    "from IPython.display import clear_output"
   ]
  },
  {
   "cell_type": "code",
   "execution_count": 17,
   "id": "monthly-evaluation",
   "metadata": {},
   "outputs": [],
   "source": [
    "def process_document (section_folder):\n",
    "    document = []\n",
    "    # For every document in the section\n",
    "    for filename in os.listdir(section_folder):\n",
    "        if (filename != '.ipynb_checkpoints'):\n",
    "                file = root_folder+'/'+folder_name+'/'+filename\n",
    "            \n",
    "                with open(file,'r') as file:\n",
    "                    for line in file:\n",
    "                        for word in line.split():\n",
    "                            # Check for empty word\n",
    "                            # Clean word -- remove capitalization and punctuation\n",
    "                            word = word.lower()\n",
    "                            word = re.sub(r'[^\\w\\s]', '', word)\n",
    "                            if (len(word) != 0):\n",
    "                                document.append(word)       \n",
    "    return document\n",
    "\n",
    "def create_vocab (document_arr):\n",
    "    # List of common words to not be included in the vocab\n",
    "    common = ['the', 'it', 'an', 'on', 'a', 'at', 'is', 'of', 'to', 'was', 'and', 'in', 'i', 'for', 'that', 'be', 'as', 'not',\n",
    "             'said','with', 'he', 'she', 'her', 'be', 'as', 'will', 'have', 'has', 'for', 'by', 'they', 'but', 'its',\n",
    "             'which', 'his', 'their', 'there', 'up', 'what', 'how', 'from', 'than', 'about', 'you', 'after', 'been', 'also',\n",
    "             'this', 'been', 'are', 'can', 'or', 'more', 'were', 'would', 'could', 'we', 'other', 'us', 'them', 'we', 'some',\n",
    "             'or', 'can', 'had', 'our', 'who', 'when', 'would', 'could', 'if', 'why', 'were', 'can', 'may', 'mr', 'such']\n",
    "\n",
    "    vocab = []\n",
    "    \n",
    "    for i in range (0, len(document_arr)):\n",
    "        document = document_arr[i]\n",
    "        for j in range (0, len(document)):\n",
    "            # Create unique vocab\n",
    "            if (document[j] not in vocab and document[j] not in common):\n",
    "                vocab.append(document[j]) \n",
    "                \n",
    "    return vocab\n",
    "\n",
    "def create_bag_of_words (document, vocab):\n",
    "    num_words = len(vocab)\n",
    "    \n",
    "    bag = [0] * num_words\n",
    "    for j in range (0, num_words):\n",
    "        clear_output(wait=True)\n",
    "        print('Document: %d  --- %d%%' % (i, (j/num_words * 100)))\n",
    "        # Count the number of occurences of vocab in the document\n",
    "        bag[j] = document.count(vocab[j])\n",
    "                        \n",
    "    return bag\n",
    "\n",
    "def create_document (root_folder):\n",
    "    # Create document for testing\n",
    "    document = []\n",
    "    section = []\n",
    "\n",
    "    sub_folders = [name for name in os.listdir(root_folder) if os.path.isdir(os.path.join(root_folder, name))]\n",
    "\n",
    "    # For each section\n",
    "    for folder_name in sub_folders:   \n",
    "        cur_folder = root_folder+'/'+folder_name\n",
    "    \n",
    "        if (folder_name != '.ipynb_checkpoints'):\n",
    "            doc = []\n",
    "             # For every document in the section\n",
    "            for filename in os.listdir(cur_folder):\n",
    "                if (filename != '.ipynb_checkpoints'):\n",
    "                    file = root_folder+'/'+folder_name+'/'+filename\n",
    "            \n",
    "                    with open(file,'r', encoding=\"utf8\") as file:\n",
    "                        for line in file:\n",
    "                            for word in line.split():\n",
    "                                # Check for empty word\n",
    "                                # Clean word -- remove capitalization and punctuation\n",
    "                                word = word.lower()\n",
    "                                word = re.sub(r'[^\\w\\s]', '', word)\n",
    "                                if (len(word) != 0):\n",
    "                                    doc.append(word)\n",
    "                    # For each section\n",
    "                    document.append(doc)\n",
    "                    section.append(folder_name)\n",
    "                    \n",
    "    return document, section"
   ]
  },
  {
   "cell_type": "markdown",
   "id": "conscious-inflation",
   "metadata": {},
   "source": [
    "#### Preprocessing Data\n",
    "To turn the documents into numerical data, count the frequency of each word in the all of the documents in each section. All the text files under each section were treated as one document. The vocab array contains all the unique words to create find the frequency of each word to create the document vectors in create_bag_of_words function.\n",
    "\n",
    "To clean the text document, uncapitalize all the words and removed the punctuation. "
   ]
  },
  {
   "cell_type": "code",
   "execution_count": 7,
   "id": "handled-oxford",
   "metadata": {},
   "outputs": [
    {
     "name": "stdout",
     "output_type": "stream",
     "text": [
      "Sections: \n",
      "business\n",
      "entertainment\n",
      "politics\n",
      "sport\n",
      "tech\n",
      "\n",
      "Documents Shape: \n",
      "( 5 , 135501 )\n"
     ]
    }
   ],
   "source": [
    "# Load all the documents under the bbc folder\n",
    "document = []\n",
    "sections = []\n",
    "\n",
    "root_folder = './bbc'\n",
    "sub_folders = [name for name in os.listdir(root_folder) if os.path.isdir(os.path.join(root_folder, name))]\n",
    "\n",
    "print (\"Sections: \")\n",
    "# For each section\n",
    "for folder_name in sub_folders:   \n",
    "    cur_folder = root_folder+'/'+folder_name\n",
    "    \n",
    "    if (folder_name != '.ipynb_checkpoints'):\n",
    "        print (folder_name)\n",
    "        # For each section\n",
    "        doc = process_document(cur_folder)\n",
    "        document.append(doc)\n",
    "        sections.append(folder_name)\n",
    "    \n",
    "print (\"\\nDocuments Shape: \")\n",
    "print (\"(\", len(document), \",\", len(document[0]), \")\")"
   ]
  },
  {
   "cell_type": "code",
   "execution_count": 8,
   "id": "sublime-teacher",
   "metadata": {},
   "outputs": [
    {
     "name": "stdout",
     "output_type": "stream",
     "text": [
      "Runtime:  548.6284964084625\n"
     ]
    }
   ],
   "source": [
    "start_time = time.time()\n",
    "\n",
    "# Use document to get unique words to create vocab\n",
    "vocab = create_vocab (document)\n",
    "\n",
    "end_time = time.time()\n",
    "print(\"Runtime: \", end_time - start_time)"
   ]
  },
  {
   "cell_type": "code",
   "execution_count": 9,
   "id": "persistent-advance",
   "metadata": {},
   "outputs": [
    {
     "name": "stdout",
     "output_type": "stream",
     "text": [
      "Document: 4  --- 99%\n",
      "Runtime:  1367.6496031284332\n"
     ]
    }
   ],
   "source": [
    "start_time = time.time()\n",
    "\n",
    "document_vectors = []\n",
    "# Create document vectors -- numerical - frequency of each vocab in the document\n",
    "for i in range (0, len(document)):\n",
    "    document_vectors.append(create_bag_of_words(document[i], vocab))\n",
    "\n",
    "end_time = time.time()\n",
    "print(\"Runtime: \", end_time - start_time)"
   ]
  },
  {
   "cell_type": "code",
   "execution_count": 10,
   "id": "alternate-biodiversity",
   "metadata": {},
   "outputs": [
    {
     "name": "stdout",
     "output_type": "stream",
     "text": [
      "(5, 30512)\n"
     ]
    }
   ],
   "source": [
    "document_vectors = np.array(document_vectors)\n",
    "print (document_vectors.shape)"
   ]
  },
  {
   "cell_type": "code",
   "execution_count": 14,
   "id": "owned-coffee",
   "metadata": {},
   "outputs": [
    {
     "name": "stdout",
     "output_type": "stream",
     "text": [
      "Document:  266\n",
      "Section:  266\n"
     ]
    }
   ],
   "source": [
    "document_dev, section = create_document ('./dev')\n",
    "    \n",
    "print (\"Document: \", len(document_dev))\n",
    "print (\"Section: \", len(section))"
   ]
  },
  {
   "cell_type": "markdown",
   "id": "great-fairy",
   "metadata": {},
   "source": [
    "#### K Means"
   ]
  },
  {
   "cell_type": "code",
   "execution_count": 20,
   "id": "portuguese-affect",
   "metadata": {},
   "outputs": [
    {
     "name": "stdout",
     "output_type": "stream",
     "text": [
      "Top terms per cluster:\n",
      "Cluster :  0\n",
      "['people', 'new', 'technology', 'one', 'games', 'users', 'out', 'use', 'many', 'mobile']\n",
      "Cluster :  1\n",
      "['government', 'people', 'labour', 'blair', 'new', 'election', 'party', 'should', 'minister', 'told']\n",
      "Cluster :  2\n",
      "['best', 'music', 'film', 'one', 'show', 'years', 'new', 'last', 'year', 'awards']\n",
      "Cluster :  3\n",
      "['year', 'new', 'market', 'growth', 'company', 'economy', 'last', 'firm', 'sales', 'oil']\n",
      "Cluster :  4\n",
      "['game', 'against', 'out', 'all', 'england', 'over', 'first', 'win', 'time', 'world']\n"
     ]
    }
   ],
   "source": [
    "from sklearn.cluster import KMeans\n",
    "\n",
    "# Number of clusters = 5 topics\n",
    "kmeans = KMeans(n_clusters=5, random_state=0).fit(document_vectors)\n",
    "\n",
    "# Store the top terms for each section\n",
    "top_terms = []\n",
    "print(\"Top terms per cluster:\")\n",
    "order_centroids = kmeans.cluster_centers_.argsort()[:, ::-1]\n",
    "for i in range(5):\n",
    "    class_top_terms = []\n",
    "    for index in order_centroids[i, :50]:\n",
    "        class_top_terms.append(vocab[index])  \n",
    "    \n",
    "    top_terms.append(class_top_terms)\n",
    "    \n",
    "for i in range (0, 5):\n",
    "    print (\"Cluster : \", i)\n",
    "    print (top_terms[i][:10])"
   ]
  },
  {
   "cell_type": "markdown",
   "id": "limiting-sheet",
   "metadata": {},
   "source": [
    "#### Compare number of occurences\n",
    "Find the number of intersection between the cluster label and words in the document. The document is labeled with labeled with the maximum number of intersections."
   ]
  },
  {
   "cell_type": "code",
   "execution_count": 21,
   "id": "approved-expression",
   "metadata": {},
   "outputs": [
    {
     "name": "stdout",
     "output_type": "stream",
     "text": [
      "Accuracy: 1.00\n"
     ]
    }
   ],
   "source": [
    "correct = 0\n",
    "# The cluster labels need to be hard coded\n",
    "cluster_label = ['tech', 'politics', 'entertainment', 'business', 'sport']\n",
    "\n",
    "# For each dev documents\n",
    "for i in range (0, len(document_dev)):\n",
    "    intersection = []\n",
    "    # Find the label with the max intersecting terms \n",
    "    for j in range (0, 5):\n",
    "        intersection.append(len(list(set(document_dev[i]) & set(top_terms[j]))))\n",
    "    index = intersection.index(max(intersection))\n",
    "    if (cluster_label[index] == section[i]):\n",
    "        correct += 1\n",
    "    \n",
    "print (\"Accuracy: %.2f\" % (correct/len(document_dev)))"
   ]
  },
  {
   "cell_type": "markdown",
   "id": "maritime-treatment",
   "metadata": {},
   "source": [
    "All documents were classified correctly so I created documents with news articles that were not from the bbc but they were still classified correctly"
   ]
  },
  {
   "cell_type": "code",
   "execution_count": 22,
   "id": "israeli-zealand",
   "metadata": {},
   "outputs": [
    {
     "name": "stdout",
     "output_type": "stream",
     "text": [
      "Document:  55\n",
      "Section:  55\n"
     ]
    }
   ],
   "source": [
    "non_bbc, non_bbc_section = create_document ('./Articles')\n",
    "    \n",
    "print (\"Document: \", len(non_bbc))\n",
    "print (\"Section: \", len(non_bbc_section))"
   ]
  },
  {
   "cell_type": "code",
   "execution_count": 24,
   "id": "silver-treatment",
   "metadata": {},
   "outputs": [
    {
     "name": "stdout",
     "output_type": "stream",
     "text": [
      "Accuracy: 1.00\n"
     ]
    }
   ],
   "source": [
    "correct = 0\n",
    "\n",
    "# For each non bbc documents\n",
    "for i in range (0, len(non_bbc)):\n",
    "    intersection = []\n",
    "    # Find the label with the max intersecting terms \n",
    "    for j in range (0, 5):\n",
    "        intersection.append(len(list(set(non_bbc[i]) & set(top_terms[j]))))\n",
    "    index = intersection.index(max(intersection))\n",
    "    if (cluster_label[index] == non_bbc_section[i]):\n",
    "        correct += 1\n",
    "    \n",
    "print (\"Accuracy: %.2f\" % (correct/len(non_bbc)))"
   ]
  },
  {
   "cell_type": "markdown",
   "id": "excited-rouge",
   "metadata": {},
   "source": [
    "#### tf-idf : Term Frequency – Inverse Document Frequency\n",
    "tf-idf = tf * idf\n",
    "<br/>\n",
    "tf = number of occurences in current document\n",
    "<br/>\n",
    "idf = log ((1+n)/(1+( number of documents in the document set that contain term)) + 1"
   ]
  },
  {
   "cell_type": "code",
   "execution_count": 109,
   "id": "tough-neighbor",
   "metadata": {},
   "outputs": [],
   "source": [
    "from nltk.stem import LancasterStemmer\n",
    "from nltk.stem import PorterStemmer\n",
    "\n",
    "def create_corpus (root_folder):\n",
    "    corpus = []\n",
    "    sub_folders = [name for name in os.listdir(root_folder) if os.path.isdir(os.path.join(root_folder, name))]\n",
    "\n",
    "    # For each section\n",
    "    for folder_name in sub_folders:   \n",
    "        cur_folder = root_folder+'/'+folder_name\n",
    "    \n",
    "        if (folder_name != '.ipynb_checkpoints'):\n",
    "             # For every document in the section\n",
    "            for filename in os.listdir(cur_folder):\n",
    "                if (filename != '.ipynb_checkpoints'):\n",
    "                    filename = root_folder+'/'+folder_name+'/'+filename\n",
    "                    #load text\n",
    "                    file = open(filename, 'rt',encoding=\"utf8\")\n",
    "                    corpus.append(file.read())\n",
    "                    file.close()\n",
    "    return corpus\n",
    "\n",
    "def clean_text (text):\n",
    "    common = ['the', 'it', 'an', 'on', 'a', 'at', 'is', 'of', 'to', 'was', 'and', 'in', 'i', 'for', 'that', 'be', 'as', 'not',\n",
    "             'said','with', 'he', 'she', 'her', 'be', 'as', 'will', 'have', 'has', 'for', 'by', 'they', 'but', 'its',\n",
    "             'which', 'his', 'their', 'there', 'up', 'what', 'how', 'from', 'than', 'about', 'you', 'after', 'been', 'also',\n",
    "             'this', 'been', 'are', 'can', 'or', 'more', 'were', 'would', 'could', 'we', 'other', 'us', 'them', 'we', 'some',\n",
    "             'or', 'can', 'had', 'our', 'who', 'when', 'would', 'could', 'if', 'why', 'were', 'can', 'may', 'mr', 'such']\n",
    "    \n",
    "    # Uncapitalize\n",
    "    text = text.lower()\n",
    "    # Remove common words\n",
    "    for i in range (0, len(common)):\n",
    "        text = text.replace(' '+common[i]+' ', ' ')\n",
    "        \n",
    "    # Use stemming to find root words\n",
    "    lancaster=LancasterStemmer()\n",
    "    porter=PorterStemmer()\n",
    "    \n",
    "    stemmed_text = []\n",
    "    for word in text.split():\n",
    "        stemmed_text.append(porter.stem(word))\n",
    "    stemmed_text = ' '.join(stemmed_text)\n",
    "    \n",
    "    # Remove punctuation\n",
    "    text = re.sub(r'[^\\w\\s]', '', stemmed_text)\n",
    "    text = re.sub(r'\\d+', '', text)\n",
    "    \n",
    "    return text"
   ]
  },
  {
   "cell_type": "code",
   "execution_count": 99,
   "id": "brief-updating",
   "metadata": {},
   "outputs": [
    {
     "name": "stdout",
     "output_type": "stream",
     "text": [
      "Number of Documents:  1698\n",
      "\n",
      "Original:\n",
      "\n",
      "Ad sales boost Time Warner profit\n",
      "\n",
      "Quarterly profits at US media giant TimeWarner jumped 76% to $1.13bn (Â£600m) for the three months to December, from $639m year-earlier.\n",
      "\n",
      "The firm, which is now one of the biggest investors in Google, benefited from sales of high-speed internet connections and higher advert sales. TimeWarner said fourth quarter sales rose 2% to $11.1bn from $10.9bn. Its profits were buoyed by one-off gains which offset a profit dip at Warner Bros, and less users for AOL.\n",
      "\n",
      "Time Warner said on Friday that it now owns 8% of search-engine Google. But its own internet business, AOL, had has mixed fortunes. It lost 464,000 subscribers in the fourth quarter profits were lower than in the preceding three quarters. However, the company said AOL's underlying profit before exceptional items rose 8% on the back of stronger internet advertising revenues. It hopes to increase subscribers by offering the online service free to TimeWarner internet customers and will try to sign up AOL's existing customers for high-speed broadband. TimeWarner also has to restate 2000 and 2003 results following a probe by the US Securities Exchange Commission (SEC), which is close to concluding.\n",
      "\n",
      "Time Warner's fourth quarter profits were slightly better than analysts' expectations. But its film division saw profits slump 27% to $284m, helped by box-office flops Alexander and Catwoman, a sharp contrast to year-earlier, when the third and final film in the Lord of the Rings trilogy boosted results. For the full-year, TimeWarner posted a profit of $3.36bn, up 27% from its 2003 performance, while revenues grew 6.4% to $42.09bn. \"Our financial performance was strong, meeting or exceeding all of our full-year objectives and greatly enhancing our flexibility,\" chairman and chief executive Richard Parsons said. For 2005, TimeWarner is projecting operating earnings growth of around 5%, and also expects higher revenue and wider profit margins.\n",
      "\n",
      "TimeWarner is to restate its accounts as part of efforts to resolve an inquiry into AOL by US market regulators. It has already offered to pay $300m to settle charges, in a deal that is under review by the SEC. The company said it was unable to estimate the amount it needed to set aside for legal reserves, which it previously set at $500m. It intends to adjust the way it accounts for a deal with German music publisher Bertelsmann's purchase of a stake in AOL Europe, which it had reported as advertising revenue. It will now book the sale of its stake in AOL Europe as a loss on the value of that stake.\n",
      "\n",
      "Cleaned:\n",
      "\n",
      "ad sale boost time warner profit quarterli profit media giant timewarn jump  bn âm three month december m yearearlier the firm now one biggest investor google benefit sale highspe internet connect higher advert sales timewarn fourth quarter sale rose  bn bn profit buoy oneoff gain offset profit dip warner bros less user aol time warner friday now own  searchengin google own internet business aol mix fortunes lost  subscrib fourth quarter profit lower preced three quarters however compani aol underli profit befor except item rose  back stronger internet advertis revenues hope increas subscrib offer onlin servic free timewarn internet custom tri sign aol exist custom highspe broadband timewarn restat   result follow probe secur exchang commiss sec close concluding time warner fourth quarter profit slightli better analysts expectations film divis saw profit slump  m help boxoffic flop alexand catwoman sharp contrast yearearlier third final film lord ring trilog boost results fullyear timewarn post profit bn   performance while revenu grew  bn our financi perform strong meet exceed all fullyear object greatli enhanc flexibility chairman chief execut richard parson said  timewarn project oper earn growth around  expect higher revenu wider profit margins timewarn restat account part effort resolv inquiri into aol market regulators alreadi offer pay m settl charges deal under review sec compani unabl estim amount need set asid legal reserves previous set m intend adjust way account deal german music publish bertelsmann purchas stake aol europe report advertis revenue now book sale stake aol europ loss valu stake\n"
     ]
    }
   ],
   "source": [
    "# Create corpus with the documents in the main folder\n",
    "root_folder = './bbc'\n",
    "corpus = create_corpus (root_folder)\n",
    "print (\"Number of Documents: \" , len(corpus))\n",
    "\n",
    "print (\"\\nOriginal:\\n\")\n",
    "print (corpus[0])\n",
    "\n",
    "for i in range (0, len(corpus)):\n",
    "    corpus[i] = clean_text (corpus[i])\n",
    "    \n",
    "print (\"Cleaned:\\n\")\n",
    "print (corpus[0])"
   ]
  },
  {
   "cell_type": "markdown",
   "id": "differential-processing",
   "metadata": {},
   "source": [
    "To visualize the clusters, the vectors have to be reduced to 2 dimensional but with PCA, the accuracy is reduced by a lot."
   ]
  },
  {
   "cell_type": "code",
   "execution_count": 100,
   "id": "boxed-ratio",
   "metadata": {},
   "outputs": [
    {
     "name": "stdout",
     "output_type": "stream",
     "text": [
      "[[-0.07946816 -0.06642482]\n",
      " [ 0.05117032 -0.0433328 ]\n",
      " [-0.12948777  0.27278551]\n",
      " [ 0.1405334   0.04755043]\n",
      " [-0.04752027  0.07809142]]\n",
      "[0 0 0 ... 0 1 1]\n"
     ]
    }
   ],
   "source": [
    "from sklearn.feature_extraction.text import TfidfVectorizer\n",
    "from sklearn.cluster import KMeans\n",
    "from sklearn.decomposition import PCA\n",
    "\n",
    "# Find vector representation of text\n",
    "vectorizer = TfidfVectorizer()\n",
    "X = vectorizer.fit_transform(corpus).todense()\n",
    "\n",
    "# Reduce to visualize\n",
    "pca = PCA(2).fit(X)\n",
    "X = pca.transform(X)\n",
    "\n",
    "# Kmeans with 5 clusters\n",
    "kmeans = KMeans(n_clusters=5).fit(X)\n",
    "\n",
    "print(kmeans.cluster_centers_)\n",
    "print (kmeans.labels_)"
   ]
  },
  {
   "cell_type": "code",
   "execution_count": 101,
   "id": "white-walnut",
   "metadata": {},
   "outputs": [
    {
     "data": {
      "text/plain": [
       "<matplotlib.collections.PathCollection at 0x229b0022c10>"
      ]
     },
     "execution_count": 101,
     "metadata": {},
     "output_type": "execute_result"
    },
    {
     "data": {
      "image/png": "[encoded data removed]",
      "text/plain": [
       "<Figure size 432x288 with 1 Axes>"
      ]
     },
     "metadata": {
      "needs_background": "light"
     },
     "output_type": "display_data"
    }
   ],
   "source": [
    "plt.scatter(X[:,0],X[:,1], c=kmeans.labels_)\n",
    "plt.scatter(kmeans.cluster_centers_[:,0], kmeans.cluster_centers_[:,1], s=100, color=\"red\")"
   ]
  },
  {
   "cell_type": "code",
   "execution_count": 102,
   "id": "developmental-hamilton",
   "metadata": {},
   "outputs": [
    {
     "name": "stdout",
     "output_type": "stream",
     "text": [
      "[[-6.77626358e-20  2.05998413e-18 -2.37169225e-20 ...  1.72710245e-02\n",
      "  -2.30392962e-19 -6.09863722e-20]\n",
      " [-6.09863722e-20  3.30995052e-03  9.14795583e-20 ...  5.96120891e-03\n",
      "   4.31982240e-04  1.35525272e-19]\n",
      " [ 2.08750498e-04  3.36102673e-18  8.80914265e-20 ...  6.74663008e-03\n",
      "   1.89735380e-19  9.48676901e-20]\n",
      " [-7.45388994e-20  4.01154804e-18  1.01643954e-19 ...  1.49199325e-02\n",
      "   1.76182853e-19  2.04417396e-04]\n",
      " [-5.42101086e-20  2.92734587e-18  1.46084485e-04 ...  2.19366439e-03\n",
      "  -1.49077799e-19 -5.42101086e-20]]\n",
      "[3 3 3 ... 4 4 4]\n"
     ]
    }
   ],
   "source": [
    "# Reload the vector without PCA\n",
    "vectorizer = TfidfVectorizer()\n",
    "X = vectorizer.fit_transform(corpus).todense()\n",
    "\n",
    "# Use K Means with 5 clusters\n",
    "kmeans = KMeans(n_clusters=5).fit(X)\n",
    "\n",
    "print(kmeans.cluster_centers_)\n",
    "print (kmeans.labels_)"
   ]
  },
  {
   "cell_type": "code",
   "execution_count": 103,
   "id": "progressive-industry",
   "metadata": {},
   "outputs": [
    {
     "name": "stdout",
     "output_type": "stream",
     "text": [
      "Number of Documents:  266\n"
     ]
    }
   ],
   "source": [
    "# Load the documents in the dev folder\n",
    "root_folder = './dev'\n",
    "corpus_dev = create_corpus (root_folder)\n",
    "print (\"Number of Documents: \" , len(corpus_dev))\n",
    "for i in range (0, len(corpus_dev)):\n",
    "    corpus_dev[i] = clean_text (corpus_dev[i])\n",
    "    \n",
    "dev_X = vectorizer.transform(corpus_dev).todense()\n",
    "prediction = kmeans.predict(dev_X)"
   ]
  },
  {
   "cell_type": "markdown",
   "id": "economic-memorial",
   "metadata": {},
   "source": [
    "To find the accuracy, I had to look at the top terms in each cluster and assign a label to each cluster"
   ]
  },
  {
   "cell_type": "code",
   "execution_count": 104,
   "id": "hydraulic-court",
   "metadata": {},
   "outputs": [
    {
     "name": "stdout",
     "output_type": "stream",
     "text": [
      "Top terms per cluster:\n",
      "\n",
      "Cluster 0: film award best music band star album top song show\n",
      "Cluster 1: game england club play win player against team it chelsea\n",
      "Cluster 2: labour blair tori parti minist govern elect brown say lord\n",
      "Cluster 3: bn growth bank market firm year sale oil price compani\n",
      "Cluster 4: use game peopl mobil phone technolog music user microsoft digit"
     ]
    }
   ],
   "source": [
    "print(\"Top terms per cluster:\")\n",
    "order_centroids = kmeans.cluster_centers_.argsort()[:, ::-1]\n",
    "terms = vectorizer.get_feature_names()\n",
    "for i in range(5):\n",
    "    print(\"\\nCluster %d:\" % i, end='')\n",
    "    for ind in order_centroids[i, :10]:\n",
    "        print(' %s' % terms[ind], end='')"
   ]
  },
  {
   "cell_type": "code",
   "execution_count": 106,
   "id": "greatest-tattoo",
   "metadata": {},
   "outputs": [
    {
     "name": "stdout",
     "output_type": "stream",
     "text": [
      "96.61654135338345\n"
     ]
    }
   ],
   "source": [
    "cluster_label = {'entertainment': 0,'sport': 1, 'politics': 2, 'business': 3, 'tech':4}\n",
    "real = [cluster_label[name] for name in section]\n",
    "\n",
    "# Use real labels and the predicted labels to find the accuracy\n",
    "accuracy = 0\n",
    "for i in range (0, len(prediction)):\n",
    "    if (prediction[i] == real[i]):\n",
    "        accuracy += 1\n",
    "        \n",
    "accuracy /= len(prediction)\n",
    "print (accuracy*100)"
   ]
  },
  {
   "cell_type": "markdown",
   "id": "protected-compound",
   "metadata": {},
   "source": [
    "Some of the entertainment articles were classified as tech. This makes sense because with Netflix and other streaming services the content of tech and entertainment articles overlap. There was also some confusion between politcal and business article because some articles talk about the interaction between the political decisions that affect the economy which change things for businesses."
   ]
  },
  {
   "cell_type": "code",
   "execution_count": 107,
   "id": "subsequent-jones",
   "metadata": {},
   "outputs": [
    {
     "name": "stdout",
     "output_type": "stream",
     "text": [
      "{'entertainment': 0, 'sport': 1, 'politics': 2, 'business': 3, 'tech': 4}\n"
     ]
    },
    {
     "data": {
      "image/png": "[encoded data removed]",
      "text/plain": [
       "<Figure size 432x288 with 1 Axes>"
      ]
     },
     "metadata": {
      "needs_background": "light"
     },
     "output_type": "display_data"
    }
   ],
   "source": [
    "from sklearn.metrics import confusion_matrix\n",
    "\n",
    "print (cluster_label)\n",
    "\n",
    "cm = confusion_matrix(real, prediction)\n",
    "\n",
    "# Plot confusion matrix\n",
    "plt.imshow(cm,interpolation='none',cmap='PuBu')\n",
    "for (i, j), z in np.ndenumerate(cm):\n",
    "    plt.text(j, i, z, ha='center', va='center')\n",
    "plt.xlabel(\"Predicted Label\")\n",
    "plt.ylabel(\"Real Label\")\n",
    "plt.show()"
   ]
  },
  {
   "cell_type": "code",
   "execution_count": 110,
   "id": "portable-jewelry",
   "metadata": {},
   "outputs": [
    {
     "name": "stdout",
     "output_type": "stream",
     "text": [
      "Number of Documents:  55\n",
      "76.36363636363637\n"
     ]
    }
   ],
   "source": [
    "# Test tf-idf with non bbc articles\n",
    "root_folder = './Articles'\n",
    "corpus_nb = create_corpus (root_folder)\n",
    "print (\"Number of Documents: \" , len(corpus_nb))\n",
    "for i in range (0, len(corpus_nb)):\n",
    "    corpus_nb[i] = clean_text (corpus_nb[i])\n",
    "    \n",
    "# Find vector representation of the documents\n",
    "nb_X = vectorizer.transform(corpus_nb).todense()\n",
    "prediction = kmeans.predict(nb_X)\n",
    "\n",
    "real = [cluster_label[name] for name in non_bbc_section]\n",
    "\n",
    "accuracy = 0\n",
    "for i in range (0, len(prediction)):\n",
    "    if (prediction[i] == real[i]):\n",
    "        accuracy += 1\n",
    "        \n",
    "accuracy /= len(prediction)\n",
    "print (accuracy*100)"
   ]
  },
  {
   "cell_type": "markdown",
   "id": "ignored-volleyball",
   "metadata": {},
   "source": [
    "The model was less accurate with articles from outside the bbc. There was confusion between tech and entertainment, and business and politics. "
   ]
  },
  {
   "cell_type": "code",
   "execution_count": 111,
   "id": "fourth-steal",
   "metadata": {},
   "outputs": [
    {
     "name": "stdout",
     "output_type": "stream",
     "text": [
      "{'entertainment': 0, 'sport': 1, 'politics': 2, 'business': 3, 'tech': 4}\n"
     ]
    },
    {
     "data": {
      "image/png": "[encoded data removed]",
      "text/plain": [
       "<Figure size 432x288 with 1 Axes>"
      ]
     },
     "metadata": {
      "needs_background": "light"
     },
     "output_type": "display_data"
    }
   ],
   "source": [
    "print (cluster_label)\n",
    "\n",
    "cm = confusion_matrix(real, prediction)\n",
    "\n",
    "# Plot confusion matrix\n",
    "plt.imshow(cm,interpolation='none',cmap='PuBu')\n",
    "for (i, j), z in np.ndenumerate(cm):\n",
    "    plt.text(j, i, z, ha='center', va='center')\n",
    "plt.xlabel(\"Predicted Label\")\n",
    "plt.ylabel(\"Real Label\")\n",
    "plt.show()"
   ]
  },
  {
   "cell_type": "markdown",
   "id": "final-request",
   "metadata": {},
   "source": [
    "#### LDA\n",
    "LDA finds the different topics in one document. I made one text file from all the documents from all the sections and then printed out the topics.  "
   ]
  },
  {
   "cell_type": "code",
   "execution_count": 165,
   "id": "sorted-composite",
   "metadata": {},
   "outputs": [],
   "source": [
    "def create_lda_document (root_folder):\n",
    "    # Create document for testing\n",
    "    document = []\n",
    "\n",
    "    sub_folders = [name for name in os.listdir(root_folder) if os.path.isdir(os.path.join(root_folder, name))]\n",
    "\n",
    "    # For each section\n",
    "    for folder_name in sub_folders:   \n",
    "        cur_folder = root_folder+'/'+folder_name\n",
    "    \n",
    "        if (folder_name != '.ipynb_checkpoints'):\n",
    "             # For every document in the section\n",
    "            for filename in os.listdir(cur_folder):\n",
    "                if (filename != '.ipynb_checkpoints'):\n",
    "                    file = root_folder+'/'+folder_name+'/'+filename\n",
    "            \n",
    "                    with open(file,'r') as file:\n",
    "                        for line in file:\n",
    "                            for word in line.split():\n",
    "                                # Check for empty word\n",
    "                                # Clean word -- remove capitalization and punctuation\n",
    "                                word = word.lower()\n",
    "                                word = re.sub(r'[^\\w\\s]', '', word)\n",
    "                                if (len(word) != 0):\n",
    "                                    document.append(word)\n",
    "                                \n",
    "    return document"
   ]
  },
  {
   "cell_type": "code",
   "execution_count": 175,
   "id": "variable-restaurant",
   "metadata": {},
   "outputs": [
    {
     "data": {
      "text/plain": [
       "[('said', 0.017761817),\n",
       " ('people', 0.005497959),\n",
       " ('new', 0.0045126),\n",
       " ('year', 0.0029477368),\n",
       " ('years', 0.0028216878),\n",
       " ('government', 0.0027471026),\n",
       " ('best', 0.0023915232),\n",
       " ('told', 0.0021941843),\n",
       " ('world', 0.0021570204),\n",
       " ('time', 0.0020423122)]"
      ]
     },
     "execution_count": 175,
     "metadata": {},
     "output_type": "execute_result"
    }
   ],
   "source": [
    "import gensim\n",
    "import json\n",
    "\n",
    "corpus = create_lda_document('./bbc')\n",
    "with open('lda_text.txt', 'w') as f:\n",
    "    f.write(json.dumps(corpus))\n",
    "\n",
    "corpus = gensim.corpora.textcorpus.TextCorpus('lda_text.txt')\n",
    "model = gensim.models.LdaModel(corpus, id2word=corpus.dictionary,alpha='auto',num_topics=5)\n",
    "\n",
    "model.show_topic(1)"
   ]
  }
 ],
 "metadata": {
  "kernelspec": {
   "display_name": "Python 3",
   "language": "python",
   "name": "python3"
  },
  "language_info": {
   "codemirror_mode": {
    "name": "ipython",
    "version": 3
   },
   "file_extension": ".py",
   "mimetype": "text/x-python",
   "name": "python",
   "nbconvert_exporter": "python",
   "pygments_lexer": "ipython3",
   "version": "3.8.4"
  }
 },
 "nbformat": 4,
 "nbformat_minor": 5
}
